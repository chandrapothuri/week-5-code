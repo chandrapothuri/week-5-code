{
 "cells": [
  {
   "cell_type": "code",
   "execution_count": 134,
   "metadata": {},
   "outputs": [],
   "source": [
    "import pandas as pd\n",
    "import numpy as np\n",
    "from sklearn.linear_model import LinearRegression\n",
    "from sklearn.linear_model import Ridge\n",
    "from sklearn.model_selection import train_test_split\n",
    "from sklearn.metrics import r2_score, mean_squared_error\n",
    "from sklearn.preprocessing import StandardScaler\n",
    "from sklearn.model_selection import KFold\n",
    "from sklearn.datasets import load_diabetes\n",
    "import matplotlib.pyplot as plt\n",
    "import scipy.stats as scs\n",
    "\n",
    "%matplotlib inline"
   ]
  },
  {
   "cell_type": "code",
   "execution_count": 135,
   "metadata": {},
   "outputs": [],
   "source": [
    "samples = 40\n",
    "\n",
    "a  = scs.norm(70, 3).rvs(samples)\n",
    "b  = scs.norm(200, 25).rvs(samples)\n",
    "c  = scs.norm(30, 5).rvs(samples)\n",
    "d  = scs.binom(10, 0.3).rvs(samples)\n",
    "e  = scs.uniform(3, 10).rvs(samples)\n",
    "f  = scs.norm(170, 3).rvs(samples)\n",
    "g  = scs.norm(23, 25).rvs(samples)\n",
    "h  = scs.norm(303, 5).rvs(samples)\n",
    "i  = scs.binom(150, 0.3).rvs(samples)\n",
    "j  = scs.uniform(72, 10).rvs(samples)\n",
    "k  = scs.norm(79, 3).rvs(samples)\n",
    "l  = scs.norm(210, 25).rvs(samples)\n",
    "m  = scs.norm(31, 5).rvs(samples)\n",
    "n  = scs.binom(11, 0.3).rvs(samples)\n",
    "o  = scs.uniform(34, 10).rvs(samples)\n",
    "p  = scs.norm(79, 3).rvs(samples)\n",
    "q  = scs.norm(22, 25).rvs(samples)\n",
    "r  = scs.norm(38, 5).rvs(samples)\n",
    "s  = scs.binom(56, 0.3).rvs(samples)\n",
    "t  = scs.uniform(85, 10).rvs(samples)\n",
    "epsilon    = scs.norm(0, 2).rvs(samples)\n",
    "intercept  = 250\n",
    "betas      = np.array([2, 3, 1, 7, 8, 34, 19, 2, 9, -11, 2, 4, 9, 3, -2, 5, 7, -8, 1, -4])\n",
    "predictors = np.array([a, b, c, d, e, f, g, h, i, j, k, l, m, n, o, p, q, r, s, t]).T"
   ]
  },
  {
   "cell_type": "code",
   "execution_count": null,
   "metadata": {},
   "outputs": [],
   "source": []
  },
  {
   "cell_type": "code",
   "execution_count": 136,
   "metadata": {},
   "outputs": [],
   "source": [
    "y = (predictors @ betas) + epsilon + intercept + (a * b)\n",
    "X = predictors"
   ]
  },
  {
   "cell_type": "code",
   "execution_count": 137,
   "metadata": {},
   "outputs": [],
   "source": [
    "model = LinearRegression().fit(predictors, y)"
   ]
  },
  {
   "cell_type": "code",
   "execution_count": 138,
   "metadata": {},
   "outputs": [
    {
     "data": {
      "text/plain": [
       "(-17130.861340776024,\n",
       " array([ 2.16152318e+02,  7.38867696e+01, -1.36582524e-01, -2.13136743e+00,\n",
       "         1.30551729e+01,  3.99772532e+01,  1.81771485e+01,  6.06186920e+00,\n",
       "         9.06972880e+00, -1.50006300e+01,  2.48041255e+00,  4.37320812e+00,\n",
       "         4.20102263e+00,  3.92697249e+00, -7.77635584e-01,  7.00994243e+00,\n",
       "         6.99907879e+00, -7.78472047e+00,  6.23204008e+00, -3.58513507e+00]))"
      ]
     },
     "execution_count": 138,
     "metadata": {},
     "output_type": "execute_result"
    }
   ],
   "source": [
    "model.intercept_, model.coef_"
   ]
  },
  {
   "cell_type": "code",
   "execution_count": 139,
   "metadata": {},
   "outputs": [],
   "source": [
    "# scores = []\n",
    "# for i in range(10_000):\n",
    "#     X_train, X_test, y_train, y_test = train_test_split(X, y, test_size=0.30)\n",
    "#     model = LinearRegression().fit(X_train, y_train)\n",
    "#     scores.append(mean_squared_error(y_test, model.predict(X_test)))\n",
    "\n",
    "# scores = np.array(scores)\n",
    "# mean = scores.mean()\n",
    "# std = scores.std(ddof=1)\n",
    "# mean - (2 * std), mean + (2 * std)"
   ]
  },
  {
   "cell_type": "code",
   "execution_count": null,
   "metadata": {},
   "outputs": [],
   "source": []
  },
  {
   "cell_type": "code",
   "execution_count": 140,
   "metadata": {},
   "outputs": [],
   "source": [
    "X_train, X_test, y_train, y_test = train_test_split(X, y, test_size=0.30)\n",
    "scalar = StandardScaler().fit(X_train)\n",
    "X_train = scalar.transform(X_train)\n",
    "X_test = scalar.transform(X_test)\n",
    "kf = KFold(n_splits=5)"
   ]
  },
  {
   "cell_type": "code",
   "execution_count": null,
   "metadata": {},
   "outputs": [],
   "source": []
  },
  {
   "cell_type": "code",
   "execution_count": 143,
   "metadata": {},
   "outputs": [
    {
     "data": {
      "image/png": "[encoded data removed]",
      "text/plain": [
       "<Figure size 432x288 with 1 Axes>"
      ]
     },
     "metadata": {
      "needs_background": "light"
     },
     "output_type": "display_data"
    }
   ],
   "source": [
    "betas = []\n",
    "scores_train = []\n",
    "scores_val  = []\n",
    "alphas = np.linspace(0, 10)\n",
    "for alpha in alphas:\n",
    "    tk_scores = []\n",
    "    vk_scores = []\n",
    "    bk_values = []\n",
    "    for train_index, validation_index in kf.split(X_train):\n",
    "        Xt = X_train[train_index]\n",
    "        yt = y_train[train_index]\n",
    "        Xv = X_train[validation_index]\n",
    "        yv = y_train[validation_index]\n",
    "\n",
    "        model = Ridge(alpha=alpha).fit(Xt, yt)\n",
    "        \n",
    "        tk_scores.append(mean_squared_error(yt, model.predict(Xt)))\n",
    "        vk_scores.append(mean_squared_error(yv, model.predict(Xv)))\n",
    "        bk_values.append(model.coef_)\n",
    "\n",
    "    train_mean = sum(tk_scores) / kf.get_n_splits()\n",
    "    val_mean = sum(vk_scores) / kf.get_n_splits()\n",
    "    betas_mean = np.array(bk_values).mean(axis=0)\n",
    "    \n",
    "    scores_train.append(train_mean)\n",
    "    scores_val.append(val_mean)\n",
    "    betas.append(betas_mean)\n",
    "\n",
    "plt.plot(alphas, scores_train, label='train')\n",
    "plt.plot(alphas, scores_val, label='test')\n",
    "plt.legend()\n",
    "plt.show()"
   ]
  },
  {
   "cell_type": "code",
   "execution_count": null,
   "metadata": {},
   "outputs": [],
   "source": []
  },
  {
   "cell_type": "code",
   "execution_count": 148,
   "metadata": {},
   "outputs": [
    {
     "data": {
      "text/plain": [
       "0.20408163265306123"
      ]
     },
     "execution_count": 148,
     "metadata": {},
     "output_type": "execute_result"
    }
   ],
   "source": [
    "alpha = alphas[np.argmin(scores_val)]\n",
    "alpha"
   ]
  },
  {
   "cell_type": "code",
   "execution_count": null,
   "metadata": {},
   "outputs": [],
   "source": []
  },
  {
   "cell_type": "code",
   "execution_count": 149,
   "metadata": {},
   "outputs": [
    {
     "data": {
      "text/plain": [
       "26103.91131186078"
      ]
     },
     "execution_count": 149,
     "metadata": {},
     "output_type": "execute_result"
    }
   ],
   "source": [
    "model = Ridge(alpha=alpha).fit(X_train, y_train)\n",
    "yhat = model.predict(X_test)\n",
    "mean_squared_error(y_test, yhat)"
   ]
  },
  {
   "cell_type": "code",
   "execution_count": 150,
   "metadata": {},
   "outputs": [
    {
     "data": {
      "text/plain": [
       "35112.25740652676"
      ]
     },
     "execution_count": 150,
     "metadata": {},
     "output_type": "execute_result"
    }
   ],
   "source": [
    "model = Ridge(alpha=0).fit(X_train, y_train)\n",
    "yhat = model.predict(X_test)\n",
    "mean_squared_error(y_test, yhat)"
   ]
  },
  {
   "cell_type": "code",
   "execution_count": null,
   "metadata": {},
   "outputs": [],
   "source": []
  }
 ],
 "metadata": {
  "kernelspec": {
   "display_name": "Python 3",
   "language": "python",
   "name": "python3"
  },
  "language_info": {
   "codemirror_mode": {
    "name": "ipython",
    "version": 3
   },
   "file_extension": ".py",
   "mimetype": "text/x-python",
   "name": "python",
   "nbconvert_exporter": "python",
   "pygments_lexer": "ipython3",
   "version": "3.7.2"
  }
 },
 "nbformat": 4,
 "nbformat_minor": 2
}
